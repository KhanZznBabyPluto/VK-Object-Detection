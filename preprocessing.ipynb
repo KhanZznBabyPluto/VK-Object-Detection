{
 "cells": [
  {
   "cell_type": "code",
   "execution_count": 2,
   "metadata": {},
   "outputs": [],
   "source": [
    "import cv2\n",
    "from PIL import Image\n",
    "from IPython.display import display"
   ]
  },
  {
   "cell_type": "code",
   "execution_count": 8,
   "metadata": {},
   "outputs": [],
   "source": [
    "def preprocessing(image_path, save_path, median_size=5):\n",
    "    \"\"\"\n",
    "    :param image: path to image you want to clean from noise\n",
    "    :param median_size: the matrix dimension of the median filter\n",
    "    :return: Clean image\n",
    "    \"\"\"\n",
    "    image = cv2.imread(image_path)\n",
    "\n",
    "    median_size = min(median_size, 7)\n",
    "\n",
    "    processed_image = cv2.medianBlur(image, median_size)\n",
    "\n",
    "    cv2.imwrite(save_path, processed_image)"
   ]
  },
  {
   "cell_type": "code",
   "execution_count": 20,
   "metadata": {},
   "outputs": [
    {
     "data": {
      "image/png": "[encoded data removed]",
      "text/plain": [
       "<PIL.PngImagePlugin.PngImageFile image mode=RGB size=320x320>"
      ]
     },
     "metadata": {},
     "output_type": "display_data"
    }
   ],
   "source": [
    "number = '76.png'\n",
    "path = 'train_data/' + number\n",
    "image = Image.open(path)\n",
    "display(image)"
   ]
  },
  {
   "cell_type": "code",
   "execution_count": 21,
   "metadata": {},
   "outputs": [
    {
     "data": {
      "image/png": "[encoded data removed]",
      "text/plain": [
       "<PIL.PngImagePlugin.PngImageFile image mode=RGB size=320x320>"
      ]
     },
     "metadata": {},
     "output_type": "display_data"
    }
   ],
   "source": [
    "save_path = 'train_data_proc/' + number\n",
    "preprocessing(path, save_path, 1)\n",
    "processed_image = Image.open(save_path)\n",
    "display(processed_image)"
   ]
  },
  {
   "cell_type": "code",
   "execution_count": 4,
   "metadata": {},
   "outputs": [],
   "source": [
    "path = 'train_data/2.png'\n",
    "image = cv2.imread(path)\n",
    "cv2.imshow('image', image)\n",
    "cv2.waitKey(0)\n",
    "cv2.destroyAllWindows()"
   ]
  },
  {
   "cell_type": "code",
   "execution_count": 5,
   "metadata": {},
   "outputs": [],
   "source": [
    "processed_image = preprocessing(path)\n",
    "cv2.imshow('processed', processed_image)\n",
    "cv2.waitKey(0)\n",
    "cv2.destroyAllWindows()"
   ]
  }
 ],
 "metadata": {
  "kernelspec": {
   "display_name": "Python 3",
   "language": "python",
   "name": "python3"
  },
  "language_info": {
   "codemirror_mode": {
    "name": "ipython",
    "version": 3
   },
   "file_extension": ".py",
   "mimetype": "text/x-python",
   "name": "python",
   "nbconvert_exporter": "python",
   "pygments_lexer": "ipython3",
   "version": "3.11.1"
  }
 },
 "nbformat": 4,
 "nbformat_minor": 2
}
